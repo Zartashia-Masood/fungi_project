{
 "cells": [
  {
   "cell_type": "markdown",
   "id": "15416d0d",
   "metadata": {},
   "source": [
    "# Numpy -numerical python"
   ]
  },
  {
   "cell_type": "code",
   "execution_count": 9,
   "id": "8c235e27",
   "metadata": {},
   "outputs": [
    {
     "name": "stdout",
     "output_type": "stream",
     "text": [
      "Requirement already satisfied: Numpy in c:\\users\\pmls\\desktop\\kickstart\\venv\\lib\\site-packages (2.3.2)\n"
     ]
    }
   ],
   "source": [
    "!pip install Numpy"
   ]
  },
  {
   "cell_type": "code",
   "execution_count": 10,
   "id": "f547eb10",
   "metadata": {},
   "outputs": [],
   "source": [
    "import numpy as np"
   ]
  },
  {
   "cell_type": "code",
   "execution_count": null,
   "id": "23e87bfc",
   "metadata": {},
   "outputs": [],
   "source": [
    "\n",
    "fungi_species=[3400,2900,3480,8901,1245,9875,1234,8765,7890,15678,12378,4590]"
   ]
  },
  {
   "cell_type": "code",
   "execution_count": 21,
   "id": "ddb06180",
   "metadata": {},
   "outputs": [
    {
     "data": {
      "text/plain": [
       "[3400, 2900, 3480, 8901, 1245, 9875, 1234, 8765, 7890, 15678, 12378, 4590]"
      ]
     },
     "execution_count": 21,
     "metadata": {},
     "output_type": "execute_result"
    }
   ],
   "source": [
    "fungi_species"
   ]
  },
  {
   "cell_type": "code",
   "execution_count": 18,
   "id": "d8575cc6",
   "metadata": {},
   "outputs": [
    {
     "data": {
      "text/plain": [
       "array([ 3400,  2900,  3480,  8901,  1245,  9875,  1234,  8765,  7890,\n",
       "       15678, 12378,  4590])"
      ]
     },
     "execution_count": 18,
     "metadata": {},
     "output_type": "execute_result"
    }
   ],
   "source": [
    "array"
   ]
  },
  {
   "cell_type": "code",
   "execution_count": 19,
   "id": "fbff62be",
   "metadata": {},
   "outputs": [
    {
     "name": "stdout",
     "output_type": "stream",
     "text": [
      "[ 3400  2900  3480  8901  1245  9875  1234  8765  7890 15678 12378  4590]\n"
     ]
    }
   ],
   "source": [
    "print(array)"
   ]
  },
  {
   "cell_type": "code",
   "execution_count": null,
   "id": "cbaccdbb",
   "metadata": {},
   "outputs": [
    {
     "name": "stdout",
     "output_type": "stream",
     "text": [
      "34000\n",
      "29000\n",
      "34800\n",
      "89010\n",
      "12450\n",
      "98750\n",
      "12340\n",
      "87650\n",
      "78900\n",
      "156780\n",
      "123780\n",
      "45900\n"
     ]
    }
   ],
   "source": [
    "\n",
    "for i in range(len(fungi_species)):\n",
    "    a=fungi_species[i] * 10\n",
    "    print(a)\n"
   ]
  },
  {
   "cell_type": "code",
   "execution_count": null,
   "id": "a38aba0e",
   "metadata": {},
   "outputs": [
    {
     "name": "stdout",
     "output_type": "stream",
     "text": [
      "\n",
      "Time taken for fungi_species: 0.0\n"
     ]
    }
   ],
   "source": [
    "#time \n",
    "import time\n",
    "\n",
    "start = time.time()\n",
    "\n",
    "print(\"\\nTime taken for fungi_species:\", time.time() - start)\n"
   ]
  },
  {
   "cell_type": "code",
   "execution_count": 30,
   "id": "1767786c",
   "metadata": {},
   "outputs": [
    {
     "name": "stdout",
     "output_type": "stream",
     "text": [
      "[ 1.2  4.7 12.   1.7  1.8  1.   1.9]\n"
     ]
    }
   ],
   "source": [
    "fungal_occurence=[1.2,4.7,12.0,1.7,1.8,1.0,1.9]\n",
    "array=np.array(fungal_occurence)\n",
    "print(array)"
   ]
  },
  {
   "cell_type": "code",
   "execution_count": null,
   "id": "99d56962",
   "metadata": {},
   "outputs": [
    {
     "name": "stdout",
     "output_type": "stream",
     "text": [
      "<class 'list'>\n"
     ]
    }
   ],
   "source": [
    "#class\n",
    "print(type(fungal_occurence))"
   ]
  },
  {
   "cell_type": "code",
   "execution_count": null,
   "id": "39d83185",
   "metadata": {},
   "outputs": [
    {
     "data": {
      "text/plain": [
       "(7,)"
      ]
     },
     "execution_count": 35,
     "metadata": {},
     "output_type": "execute_result"
    }
   ],
   "source": [
    "#shape\n",
    "array.shape\n"
   ]
  },
  {
   "cell_type": "code",
   "execution_count": null,
   "id": "cb0d5860",
   "metadata": {},
   "outputs": [
    {
     "data": {
      "text/plain": [
       "1"
      ]
     },
     "execution_count": 36,
     "metadata": {},
     "output_type": "execute_result"
    }
   ],
   "source": [
    "#dimension\n",
    "array.ndim"
   ]
  },
  {
   "cell_type": "code",
   "execution_count": 13,
   "id": "b5a1ee25",
   "metadata": {},
   "outputs": [
    {
     "data": {
      "text/plain": [
       "array([  10.,  100., 1000.])"
      ]
     },
     "execution_count": 13,
     "metadata": {},
     "output_type": "execute_result"
    }
   ],
   "source": [
    "# log space # logrithim space array\n",
    "import numpy as np\n",
    "fungal_occurence=np.logspace(1,3,3)\n",
    "fungal_occurence"
   ]
  },
  {
   "cell_type": "code",
   "execution_count": 16,
   "id": "31812cf2",
   "metadata": {},
   "outputs": [
    {
     "data": {
      "text/plain": [
       "array([0., 0., 0., 0., 0.])"
      ]
     },
     "execution_count": 16,
     "metadata": {},
     "output_type": "execute_result"
    }
   ],
   "source": [
    "# number of zeros\n",
    "fungal_occurence=np.zeros(5)\n",
    "fungal_occurence"
   ]
  },
  {
   "cell_type": "code",
   "execution_count": null,
   "id": "4a1ffce2",
   "metadata": {},
   "outputs": [],
   "source": [
    "#convert into array\n",
    "fungus_infection_rate=[890,567,2345,1234,890,567,235]\n"
   ]
  },
  {
   "cell_type": "code",
   "execution_count": 21,
   "id": "52c28019",
   "metadata": {},
   "outputs": [
    {
     "data": {
      "text/plain": [
       "array([ 890,  567, 2345, 1234,  890,  567,  235])"
      ]
     },
     "execution_count": 21,
     "metadata": {},
     "output_type": "execute_result"
    }
   ],
   "source": [
    "arr=np.array(fungus_infection_rate)\n",
    "arr"
   ]
  },
  {
   "cell_type": "code",
   "execution_count": 22,
   "id": "fa7325f7",
   "metadata": {},
   "outputs": [
    {
     "data": {
      "text/plain": [
       "dtype('int64')"
      ]
     },
     "execution_count": 22,
     "metadata": {},
     "output_type": "execute_result"
    }
   ],
   "source": [
    "#datatype\n",
    "arr.dtype"
   ]
  },
  {
   "cell_type": "code",
   "execution_count": 23,
   "id": "35b0155c",
   "metadata": {},
   "outputs": [
    {
     "data": {
      "text/plain": [
       "(7,)"
      ]
     },
     "execution_count": 23,
     "metadata": {},
     "output_type": "execute_result"
    }
   ],
   "source": [
    "#shape\n",
    "arr.shape"
   ]
  },
  {
   "cell_type": "code",
   "execution_count": 24,
   "id": "2ad557d4",
   "metadata": {},
   "outputs": [
    {
     "data": {
      "text/plain": [
       "7"
      ]
     },
     "execution_count": 24,
     "metadata": {},
     "output_type": "execute_result"
    }
   ],
   "source": [
    "#size\n",
    "arr.size"
   ]
  },
  {
   "cell_type": "code",
   "execution_count": 25,
   "id": "c3490be0",
   "metadata": {},
   "outputs": [
    {
     "data": {
      "text/plain": [
       "1"
      ]
     },
     "execution_count": 25,
     "metadata": {},
     "output_type": "execute_result"
    }
   ],
   "source": [
    "#dimension\n",
    "arr.ndim"
   ]
  },
  {
   "cell_type": "code",
   "execution_count": 26,
   "id": "f9d5fed4",
   "metadata": {},
   "outputs": [],
   "source": [
    "#operations Arthiematic\n",
    "fungus_1=np.array([28,34,56,19,10,23,45,13,14,67])\n",
    "\n"
   ]
  },
  {
   "cell_type": "code",
   "execution_count": 27,
   "id": "be4673ee",
   "metadata": {},
   "outputs": [],
   "source": [
    "fungus_2=([46,48,25,72,90,67,58,55,80,76])"
   ]
  },
  {
   "cell_type": "code",
   "execution_count": 28,
   "id": "55e2ab36",
   "metadata": {},
   "outputs": [
    {
     "name": "stdout",
     "output_type": "stream",
     "text": [
      "[ 74  82  81  91 100  90 103  68  94 143]\n"
     ]
    }
   ],
   "source": [
    "#add\n",
    "print(fungus_1+fungus_2)"
   ]
  },
  {
   "cell_type": "code",
   "execution_count": 29,
   "id": "4513509d",
   "metadata": {},
   "outputs": [
    {
     "name": "stdout",
     "output_type": "stream",
     "text": [
      "[-18 -14  31 -53 -80 -44 -13 -42 -66  -9]\n"
     ]
    }
   ],
   "source": [
    "#subtract\n",
    "print(fungus_1-fungus_2)"
   ]
  },
  {
   "cell_type": "code",
   "execution_count": 30,
   "id": "e94c15ae",
   "metadata": {},
   "outputs": [
    {
     "name": "stdout",
     "output_type": "stream",
     "text": [
      "[1288 1632 1400 1368  900 1541 2610  715 1120 5092]\n"
     ]
    }
   ],
   "source": [
    "#multiply\n",
    "print(fungus_1*fungus_2)"
   ]
  },
  {
   "cell_type": "code",
   "execution_count": 31,
   "id": "08b8337d",
   "metadata": {},
   "outputs": [
    {
     "name": "stdout",
     "output_type": "stream",
     "text": [
      "[28 34  6 19 10 23 45 13 14 67]\n"
     ]
    }
   ],
   "source": [
    "#modulus\n",
    "print(fungus_1%fungus_2)"
   ]
  },
  {
   "cell_type": "code",
   "execution_count": 32,
   "id": "ec7df088",
   "metadata": {},
   "outputs": [
    {
     "name": "stdout",
     "output_type": "stream",
     "text": [
      "[                  0 7710444037034999808                   0\n",
      " 6408775724441994273                   0 7514925431271492999\n",
      " 7018070145944232649 4440335197330247461                   0\n",
      " 1160141020877736433]\n"
     ]
    }
   ],
   "source": [
    "#exponent\n",
    "print(fungus_1**fungus_2)"
   ]
  },
  {
   "cell_type": "code",
   "execution_count": 34,
   "id": "0224a76f",
   "metadata": {},
   "outputs": [
    {
     "name": "stdout",
     "output_type": "stream",
     "text": [
      "[29.83286778 23.8117618  48.42520005 35.12833614 29.83286778 23.8117618\n",
      " 15.32970972]\n"
     ]
    }
   ],
   "source": [
    "#universal functions\n",
    "arr\n",
    "#square root\n",
    "print(np.sqrt(arr))"
   ]
  },
  {
   "cell_type": "code",
   "execution_count": 35,
   "id": "8e894e89",
   "metadata": {},
   "outputs": [
    {
     "name": "stdout",
     "output_type": "stream",
     "text": [
      "[5.29150262 5.83095189 7.48331477 4.35889894 3.16227766 4.79583152\n",
      " 6.70820393 3.60555128 3.74165739 8.18535277]\n"
     ]
    }
   ],
   "source": [
    "print(np.sqrt(fungus_1))"
   ]
  },
  {
   "cell_type": "code",
   "execution_count": 36,
   "id": "b2ed7b6a",
   "metadata": {},
   "outputs": [
    {
     "name": "stdout",
     "output_type": "stream",
     "text": [
      "[6.78232998 6.92820323 5.         8.48528137 9.48683298 8.18535277\n",
      " 7.61577311 7.41619849 8.94427191 8.71779789]\n"
     ]
    }
   ],
   "source": [
    "print(np.sqrt(fungus_2))"
   ]
  },
  {
   "cell_type": "code",
   "execution_count": 37,
   "id": "7219d9d0",
   "metadata": {},
   "outputs": [
    {
     "name": "stdout",
     "output_type": "stream",
     "text": [
      "890\n"
     ]
    }
   ],
   "source": [
    "#indexing\n",
    "print(arr[0])"
   ]
  },
  {
   "cell_type": "code",
   "execution_count": 41,
   "id": "4608d3de",
   "metadata": {},
   "outputs": [
    {
     "name": "stdout",
     "output_type": "stream",
     "text": [
      "19\n"
     ]
    }
   ],
   "source": [
    "print(fungus_1[3])"
   ]
  },
  {
   "cell_type": "code",
   "execution_count": 39,
   "id": "9e19f6c7",
   "metadata": {},
   "outputs": [
    {
     "name": "stdout",
     "output_type": "stream",
     "text": [
      "80\n"
     ]
    }
   ],
   "source": [
    "#negative indexing\n",
    "print(fungus_2[-2])"
   ]
  },
  {
   "cell_type": "code",
   "execution_count": 42,
   "id": "07b483f5",
   "metadata": {},
   "outputs": [
    {
     "data": {
      "text/plain": [
       "array([28, 34, 56, 19, 10, 23, 45, 13, 14, 67])"
      ]
     },
     "execution_count": 42,
     "metadata": {},
     "output_type": "execute_result"
    }
   ],
   "source": [
    "#slicing\n",
    "fungus_1"
   ]
  },
  {
   "cell_type": "code",
   "execution_count": 44,
   "id": "2183780c",
   "metadata": {},
   "outputs": [
    {
     "name": "stdout",
     "output_type": "stream",
     "text": [
      "[34 56 19]\n"
     ]
    }
   ],
   "source": [
    "print(fungus_1[1:4])"
   ]
  },
  {
   "cell_type": "code",
   "execution_count": 46,
   "id": "9601cb28",
   "metadata": {},
   "outputs": [
    {
     "name": "stdout",
     "output_type": "stream",
     "text": [
      "[28 34 56 19]\n"
     ]
    }
   ],
   "source": [
    "print(fungus_1[0:4])"
   ]
  },
  {
   "cell_type": "code",
   "execution_count": 49,
   "id": "ae65029a",
   "metadata": {},
   "outputs": [
    {
     "name": "stdout",
     "output_type": "stream",
     "text": [
      "[28 56 10 45 14]\n"
     ]
    }
   ],
   "source": [
    "print(fungus_1[ : :2])"
   ]
  },
  {
   "cell_type": "code",
   "execution_count": 52,
   "id": "65b06cc8",
   "metadata": {},
   "outputs": [
    {
     "data": {
      "text/plain": [
       "array([[23, 45, 67],\n",
       "       [12, 24, 70],\n",
       "       [ 1,  3,  8]])"
      ]
     },
     "execution_count": 52,
     "metadata": {},
     "output_type": "execute_result"
    }
   ],
   "source": [
    "#for multidimensional array\n",
    "fungus_3=([23,45,67],\n",
    "          [12,24,70],\n",
    "          [1,3,8])\n",
    "arr_1=np.array(fungus_3)\n",
    "arr_1"
   ]
  },
  {
   "cell_type": "code",
   "execution_count": 55,
   "id": "7e669435",
   "metadata": {},
   "outputs": [
    {
     "data": {
      "text/plain": [
       "2"
      ]
     },
     "execution_count": 55,
     "metadata": {},
     "output_type": "execute_result"
    }
   ],
   "source": [
    "#dimensions\n",
    "arr_1.ndim"
   ]
  },
  {
   "cell_type": "code",
   "execution_count": 53,
   "id": "7732d3e2",
   "metadata": {},
   "outputs": [
    {
     "data": {
      "text/plain": [
       "dtype('int64')"
      ]
     },
     "execution_count": 53,
     "metadata": {},
     "output_type": "execute_result"
    }
   ],
   "source": [
    "#data type\n",
    "arr_1.dtype"
   ]
  },
  {
   "cell_type": "code",
   "execution_count": 54,
   "id": "bd62a0c1",
   "metadata": {},
   "outputs": [
    {
     "data": {
      "text/plain": [
       "9"
      ]
     },
     "execution_count": 54,
     "metadata": {},
     "output_type": "execute_result"
    }
   ],
   "source": [
    "#size\n",
    "arr_1.size"
   ]
  },
  {
   "cell_type": "code",
   "execution_count": 64,
   "id": "3510daef",
   "metadata": {},
   "outputs": [
    {
     "name": "stdout",
     "output_type": "stream",
     "text": [
      "[23 45 67]\n"
     ]
    }
   ],
   "source": [
    "#indexing \n",
    "print(arr_1[0])"
   ]
  },
  {
   "cell_type": "code",
   "execution_count": 65,
   "id": "ea7c14db",
   "metadata": {},
   "outputs": [
    {
     "name": "stdout",
     "output_type": "stream",
     "text": [
      "3\n"
     ]
    }
   ],
   "source": [
    "print(arr_1[2,1])"
   ]
  },
  {
   "cell_type": "code",
   "execution_count": 66,
   "id": "204bae9f",
   "metadata": {},
   "outputs": [
    {
     "name": "stdout",
     "output_type": "stream",
     "text": [
      "[[45 67]\n",
      " [24 70]]\n"
     ]
    }
   ],
   "source": [
    "#slicing of rows,column\n",
    "print(arr_1[0:2, 1:3])"
   ]
  },
  {
   "cell_type": "code",
   "execution_count": 67,
   "id": "7c52cb0f",
   "metadata": {},
   "outputs": [
    {
     "name": "stdout",
     "output_type": "stream",
     "text": [
      "8\n"
     ]
    }
   ],
   "source": [
    "#single element\n",
    "print(arr_1[2,2])"
   ]
  },
  {
   "cell_type": "code",
   "execution_count": 68,
   "id": "e166ac7c",
   "metadata": {},
   "outputs": [
    {
     "name": "stdout",
     "output_type": "stream",
     "text": [
      "[ 36  72 145]\n"
     ]
    }
   ],
   "source": [
    "#operations\n",
    "#sum\n",
    "print(sum(arr_1))"
   ]
  },
  {
   "cell_type": "code",
   "execution_count": 70,
   "id": "7e38e091",
   "metadata": {},
   "outputs": [
    {
     "name": "stdout",
     "output_type": "stream",
     "text": [
      "[[ 46  90 134]\n",
      " [ 24  48 140]\n",
      " [  2   6  16]]\n"
     ]
    }
   ],
   "source": [
    "#multiply\n",
    "print(arr_1*2)\n"
   ]
  },
  {
   "cell_type": "code",
   "execution_count": 71,
   "id": "fa129072",
   "metadata": {},
   "outputs": [
    {
     "data": {
      "text/plain": [
       "np.float64(28.11111111111111)"
      ]
     },
     "execution_count": 71,
     "metadata": {},
     "output_type": "execute_result"
    }
   ],
   "source": [
    "#mean\n",
    "np.mean(arr_1)"
   ]
  },
  {
   "cell_type": "code",
   "execution_count": 74,
   "id": "73556acc",
   "metadata": {},
   "outputs": [
    {
     "data": {
      "text/plain": [
       "np.float64(23.0)"
      ]
     },
     "execution_count": 74,
     "metadata": {},
     "output_type": "execute_result"
    }
   ],
   "source": [
    "#median\n",
    "np.median(arr_1)"
   ]
  },
  {
   "cell_type": "code",
   "execution_count": 72,
   "id": "a983d6f2",
   "metadata": {},
   "outputs": [
    {
     "data": {
      "text/plain": [
       "np.int64(70)"
      ]
     },
     "execution_count": 72,
     "metadata": {},
     "output_type": "execute_result"
    }
   ],
   "source": [
    "#max\n",
    "np.max(arr_1)"
   ]
  },
  {
   "cell_type": "code",
   "execution_count": 76,
   "id": "08303f3e",
   "metadata": {},
   "outputs": [
    {
     "data": {
      "text/plain": [
       "np.int64(1)"
      ]
     },
     "execution_count": 76,
     "metadata": {},
     "output_type": "execute_result"
    }
   ],
   "source": [
    "#min\n",
    "np.min(arr_1)"
   ]
  }
 ],
 "metadata": {
  "kernelspec": {
   "display_name": "venv",
   "language": "python",
   "name": "python3"
  },
  "language_info": {
   "codemirror_mode": {
    "name": "ipython",
    "version": 3
   },
   "file_extension": ".py",
   "mimetype": "text/x-python",
   "name": "python",
   "nbconvert_exporter": "python",
   "pygments_lexer": "ipython3",
   "version": "3.12.0"
  }
 },
 "nbformat": 4,
 "nbformat_minor": 5
}
